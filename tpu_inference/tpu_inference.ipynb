{
  "nbformat": 4,
  "nbformat_minor": 0,
  "metadata": {
    "colab": {
      "provenance": []
    },
    "kernelspec": {
      "name": "python3",
      "display_name": "Python 3"
    },
    "language_info": {
      "name": "python"
    },
    "accelerator": "TPU",
    "gpuClass": "standard"
  },
  "cells": [
    {
      "cell_type": "code",
      "source": [
        "!pip install cloud-tpu-client==0.10 torch==2.0.0 torchvision==0.15.1 https://storage.googleapis.com/tpu-pytorch/wheels/colab/torch_xla-2.0-cp39-cp39-linux_x86_64.whl\n"
      ],
      "metadata": {
        "colab": {
          "base_uri": "https://localhost:8080/"
        },
        "id": "A_ZJF7I0sCis",
        "outputId": "b3317f65-6a97-4cec-ebcc-cef52f1d53aa"
      },
      "execution_count": 4,
      "outputs": [
        {
          "output_type": "stream",
          "name": "stdout",
          "text": [
            "Looking in indexes: https://pypi.org/simple, https://us-python.pkg.dev/colab-wheels/public/simple/\n",
            "Collecting torch-xla==2.0\n",
            "  Using cached https://storage.googleapis.com/tpu-pytorch/wheels/colab/torch_xla-2.0-cp39-cp39-linux_x86_64.whl (115.7 MB)\n",
            "Requirement already satisfied: cloud-tpu-client==0.10 in /usr/local/lib/python3.9/dist-packages (0.10)\n",
            "Requirement already satisfied: torch==2.0.0 in /usr/local/lib/python3.9/dist-packages (2.0.0+cu118)\n",
            "Requirement already satisfied: torchvision==0.15.1 in /usr/local/lib/python3.9/dist-packages (0.15.1+cu118)\n",
            "Requirement already satisfied: google-api-python-client==1.8.0 in /usr/local/lib/python3.9/dist-packages (from cloud-tpu-client==0.10) (1.8.0)\n",
            "Requirement already satisfied: oauth2client in /usr/local/lib/python3.9/dist-packages (from cloud-tpu-client==0.10) (4.1.3)\n",
            "Requirement already satisfied: sympy in /usr/local/lib/python3.9/dist-packages (from torch==2.0.0) (1.11.1)\n",
            "Requirement already satisfied: triton==2.0.0 in /usr/local/lib/python3.9/dist-packages (from torch==2.0.0) (2.0.0)\n",
            "Requirement already satisfied: jinja2 in /usr/local/lib/python3.9/dist-packages (from torch==2.0.0) (3.1.2)\n",
            "Requirement already satisfied: networkx in /usr/local/lib/python3.9/dist-packages (from torch==2.0.0) (3.1)\n",
            "Requirement already satisfied: filelock in /usr/local/lib/python3.9/dist-packages (from torch==2.0.0) (3.12.0)\n",
            "Requirement already satisfied: typing-extensions in /usr/local/lib/python3.9/dist-packages (from torch==2.0.0) (4.5.0)\n",
            "Requirement already satisfied: requests in /usr/local/lib/python3.9/dist-packages (from torchvision==0.15.1) (2.27.1)\n",
            "Requirement already satisfied: pillow!=8.3.*,>=5.3.0 in /usr/local/lib/python3.9/dist-packages (from torchvision==0.15.1) (8.4.0)\n",
            "Requirement already satisfied: numpy in /usr/local/lib/python3.9/dist-packages (from torchvision==0.15.1) (1.24.3)\n",
            "Requirement already satisfied: google-auth-httplib2>=0.0.3 in /usr/local/lib/python3.9/dist-packages (from google-api-python-client==1.8.0->cloud-tpu-client==0.10) (0.1.0)\n",
            "Requirement already satisfied: uritemplate<4dev,>=3.0.0 in /usr/local/lib/python3.9/dist-packages (from google-api-python-client==1.8.0->cloud-tpu-client==0.10) (3.0.1)\n",
            "Requirement already satisfied: google-api-core<2dev,>=1.13.0 in /usr/local/lib/python3.9/dist-packages (from google-api-python-client==1.8.0->cloud-tpu-client==0.10) (1.34.0)\n",
            "Requirement already satisfied: google-auth>=1.4.1 in /usr/local/lib/python3.9/dist-packages (from google-api-python-client==1.8.0->cloud-tpu-client==0.10) (2.17.3)\n",
            "Requirement already satisfied: httplib2<1dev,>=0.9.2 in /usr/local/lib/python3.9/dist-packages (from google-api-python-client==1.8.0->cloud-tpu-client==0.10) (0.21.0)\n",
            "Requirement already satisfied: six<2dev,>=1.6.1 in /usr/local/lib/python3.9/dist-packages (from google-api-python-client==1.8.0->cloud-tpu-client==0.10) (1.16.0)\n",
            "Requirement already satisfied: lit in /usr/local/lib/python3.9/dist-packages (from triton==2.0.0->torch==2.0.0) (16.0.2)\n",
            "Requirement already satisfied: cmake in /usr/local/lib/python3.9/dist-packages (from triton==2.0.0->torch==2.0.0) (3.25.2)\n",
            "Requirement already satisfied: absl-py>=1.0.0 in /usr/local/lib/python3.9/dist-packages (from torch-xla==2.0) (1.4.0)\n",
            "Requirement already satisfied: MarkupSafe>=2.0 in /usr/local/lib/python3.9/dist-packages (from jinja2->torch==2.0.0) (2.1.2)\n",
            "Requirement already satisfied: pyasn1>=0.1.7 in /usr/local/lib/python3.9/dist-packages (from oauth2client->cloud-tpu-client==0.10) (0.5.0)\n",
            "Requirement already satisfied: rsa>=3.1.4 in /usr/local/lib/python3.9/dist-packages (from oauth2client->cloud-tpu-client==0.10) (4.9)\n",
            "Requirement already satisfied: pyasn1-modules>=0.0.5 in /usr/local/lib/python3.9/dist-packages (from oauth2client->cloud-tpu-client==0.10) (0.3.0)\n",
            "Requirement already satisfied: idna<4,>=2.5 in /usr/local/lib/python3.9/dist-packages (from requests->torchvision==0.15.1) (3.4)\n",
            "Requirement already satisfied: urllib3<1.27,>=1.21.1 in /usr/local/lib/python3.9/dist-packages (from requests->torchvision==0.15.1) (1.26.15)\n",
            "Requirement already satisfied: certifi>=2017.4.17 in /usr/local/lib/python3.9/dist-packages (from requests->torchvision==0.15.1) (2022.12.7)\n",
            "Requirement already satisfied: charset-normalizer~=2.0.0 in /usr/local/lib/python3.9/dist-packages (from requests->torchvision==0.15.1) (2.0.12)\n",
            "Requirement already satisfied: mpmath>=0.19 in /usr/local/lib/python3.9/dist-packages (from sympy->torch==2.0.0) (1.3.0)\n",
            "Requirement already satisfied: googleapis-common-protos<2.0dev,>=1.56.2 in /usr/local/lib/python3.9/dist-packages (from google-api-core<2dev,>=1.13.0->google-api-python-client==1.8.0->cloud-tpu-client==0.10) (1.59.0)\n",
            "Requirement already satisfied: protobuf!=3.20.0,!=3.20.1,!=4.21.0,!=4.21.1,!=4.21.2,!=4.21.3,!=4.21.4,!=4.21.5,<4.0.0dev,>=3.19.5 in /usr/local/lib/python3.9/dist-packages (from google-api-core<2dev,>=1.13.0->google-api-python-client==1.8.0->cloud-tpu-client==0.10) (3.20.3)\n",
            "Requirement already satisfied: cachetools<6.0,>=2.0.0 in /usr/local/lib/python3.9/dist-packages (from google-auth>=1.4.1->google-api-python-client==1.8.0->cloud-tpu-client==0.10) (5.3.0)\n",
            "Requirement already satisfied: pyparsing!=3.0.0,!=3.0.1,!=3.0.2,!=3.0.3,<4,>=2.4.2 in /usr/local/lib/python3.9/dist-packages (from httplib2<1dev,>=0.9.2->google-api-python-client==1.8.0->cloud-tpu-client==0.10) (3.0.9)\n"
          ]
        }
      ]
    },
    {
      "cell_type": "code",
      "source": [
        "!pip install timm"
      ],
      "metadata": {
        "colab": {
          "base_uri": "https://localhost:8080/"
        },
        "id": "YbQSyu80tS6o",
        "outputId": "bb05f283-e959-493e-c17f-e491dd025dae"
      },
      "execution_count": 5,
      "outputs": [
        {
          "output_type": "stream",
          "name": "stdout",
          "text": [
            "Looking in indexes: https://pypi.org/simple, https://us-python.pkg.dev/colab-wheels/public/simple/\n",
            "Collecting timm\n",
            "  Downloading timm-0.6.13-py3-none-any.whl (549 kB)\n",
            "\u001b[2K     \u001b[90m━━━━━━━━━━━━━━━━━━━━━━━━━━━━━━━━━━━━━━\u001b[0m \u001b[32m549.1/549.1 kB\u001b[0m \u001b[31m10.9 MB/s\u001b[0m eta \u001b[36m0:00:00\u001b[0m\n",
            "\u001b[?25hRequirement already satisfied: torchvision in /usr/local/lib/python3.9/dist-packages (from timm) (0.15.1+cu118)\n",
            "Collecting huggingface-hub\n",
            "  Downloading huggingface_hub-0.14.1-py3-none-any.whl (224 kB)\n",
            "\u001b[2K     \u001b[90m━━━━━━━━━━━━━━━━━━━━━━━━━━━━━━━━━━━━━━\u001b[0m \u001b[32m224.5/224.5 kB\u001b[0m \u001b[31m21.0 MB/s\u001b[0m eta \u001b[36m0:00:00\u001b[0m\n",
            "\u001b[?25hRequirement already satisfied: torch>=1.7 in /usr/local/lib/python3.9/dist-packages (from timm) (2.0.0+cu118)\n",
            "Requirement already satisfied: pyyaml in /usr/local/lib/python3.9/dist-packages (from timm) (6.0)\n",
            "Requirement already satisfied: networkx in /usr/local/lib/python3.9/dist-packages (from torch>=1.7->timm) (3.1)\n",
            "Requirement already satisfied: filelock in /usr/local/lib/python3.9/dist-packages (from torch>=1.7->timm) (3.12.0)\n",
            "Requirement already satisfied: sympy in /usr/local/lib/python3.9/dist-packages (from torch>=1.7->timm) (1.11.1)\n",
            "Requirement already satisfied: typing-extensions in /usr/local/lib/python3.9/dist-packages (from torch>=1.7->timm) (4.5.0)\n",
            "Requirement already satisfied: triton==2.0.0 in /usr/local/lib/python3.9/dist-packages (from torch>=1.7->timm) (2.0.0)\n",
            "Requirement already satisfied: jinja2 in /usr/local/lib/python3.9/dist-packages (from torch>=1.7->timm) (3.1.2)\n",
            "Requirement already satisfied: lit in /usr/local/lib/python3.9/dist-packages (from triton==2.0.0->torch>=1.7->timm) (16.0.2)\n",
            "Requirement already satisfied: cmake in /usr/local/lib/python3.9/dist-packages (from triton==2.0.0->torch>=1.7->timm) (3.25.2)\n",
            "Requirement already satisfied: tqdm>=4.42.1 in /usr/local/lib/python3.9/dist-packages (from huggingface-hub->timm) (4.65.0)\n",
            "Requirement already satisfied: requests in /usr/local/lib/python3.9/dist-packages (from huggingface-hub->timm) (2.27.1)\n",
            "Requirement already satisfied: packaging>=20.9 in /usr/local/lib/python3.9/dist-packages (from huggingface-hub->timm) (23.1)\n",
            "Requirement already satisfied: fsspec in /usr/local/lib/python3.9/dist-packages (from huggingface-hub->timm) (2023.4.0)\n",
            "Requirement already satisfied: numpy in /usr/local/lib/python3.9/dist-packages (from torchvision->timm) (1.24.3)\n",
            "Requirement already satisfied: pillow!=8.3.*,>=5.3.0 in /usr/local/lib/python3.9/dist-packages (from torchvision->timm) (8.4.0)\n",
            "Requirement already satisfied: MarkupSafe>=2.0 in /usr/local/lib/python3.9/dist-packages (from jinja2->torch>=1.7->timm) (2.1.2)\n",
            "Requirement already satisfied: charset-normalizer~=2.0.0 in /usr/local/lib/python3.9/dist-packages (from requests->huggingface-hub->timm) (2.0.12)\n",
            "Requirement already satisfied: certifi>=2017.4.17 in /usr/local/lib/python3.9/dist-packages (from requests->huggingface-hub->timm) (2022.12.7)\n",
            "Requirement already satisfied: urllib3<1.27,>=1.21.1 in /usr/local/lib/python3.9/dist-packages (from requests->huggingface-hub->timm) (1.26.15)\n",
            "Requirement already satisfied: idna<4,>=2.5 in /usr/local/lib/python3.9/dist-packages (from requests->huggingface-hub->timm) (3.4)\n",
            "Requirement already satisfied: mpmath>=0.19 in /usr/local/lib/python3.9/dist-packages (from sympy->torch>=1.7->timm) (1.3.0)\n",
            "Installing collected packages: huggingface-hub, timm\n",
            "Successfully installed huggingface-hub-0.14.1 timm-0.6.13\n"
          ]
        }
      ]
    },
    {
      "cell_type": "code",
      "source": [
        "from google.colab import drive\n",
        "drive.mount('/content/drive')"
      ],
      "metadata": {
        "colab": {
          "base_uri": "https://localhost:8080/"
        },
        "id": "G6uYLQkLuuO1",
        "outputId": "350fc16a-1be1-4e42-a7b6-445c7aa3945d"
      },
      "execution_count": 6,
      "outputs": [
        {
          "output_type": "stream",
          "name": "stdout",
          "text": [
            "Mounted at /content/drive\n"
          ]
        }
      ]
    },
    {
      "cell_type": "code",
      "execution_count": 7,
      "metadata": {
        "id": "sVQWZ5_2r887"
      },
      "outputs": [],
      "source": [
        "import os\n",
        "import timm\n",
        "import time\n",
        "import torch\n",
        "import torch_xla.core.xla_model as xm"
      ]
    },
    {
      "cell_type": "code",
      "source": [
        "model_names = [\n",
        "    'efficientnet_b0',\n",
        "    'efficientnet_b1',\n",
        "    'efficientnet_b2',\n",
        "    'efficientnet_b3',\n",
        "    'efficientnet_b4',\n",
        "    'mobilenetv2_100',\n",
        "    'nasnetalarge',\n",
        "    'resnet18',\n",
        "    'resnet26',\n",
        "    'resnet34',\n",
        "    'resnet50',\n",
        "    'resnet101',\n",
        "    'resnet152',\n",
        "    'vgg11',\n",
        "    'vgg13',\n",
        "    'vgg16',\n",
        "    'vgg19',\n",
        "    'xception'\n",
        "]\n",
        "\n",
        "batch_sizes = [16, 32, 64]\n",
        "num_inference_steps = [32]\n",
        "data_precisions = {\n",
        "    \"float16\": torch.float16,\n",
        "    \"bfloat16\": torch.bfloat16,\n",
        "    \"float32\": torch.float32,\n",
        "    \"float64\": torch.float64\n",
        "}"
      ],
      "metadata": {
        "id": "SfmyRMKBtWA_"
      },
      "execution_count": 8,
      "outputs": []
    },
    {
      "cell_type": "code",
      "source": [
        "cur_path = os.getcwd()\n",
        "dir_path = os.path.join(cur_path, \"drive/MyDrive/hml_project/tpu_results_pytorch\")\n",
        "if not os.path.exists(dir_path):\n",
        "  os.mkdir(dir_path)"
      ],
      "metadata": {
        "id": "XQcFiWk8vTz6"
      },
      "execution_count": 25,
      "outputs": []
    },
    {
      "cell_type": "code",
      "source": [
        "device = xm.xla_device()\n",
        "print(\"Using device:\", device)"
      ],
      "metadata": {
        "colab": {
          "base_uri": "https://localhost:8080/"
        },
        "id": "PjPq4aDxv6fs",
        "outputId": "7c928931-ccd1-41e2-b6ad-3af90b815830"
      },
      "execution_count": 26,
      "outputs": [
        {
          "output_type": "stream",
          "name": "stdout",
          "text": [
            "Using device: xla:1\n"
          ]
        }
      ]
    },
    {
      "cell_type": "code",
      "source": [
        "num_inference_steps = [10]"
      ],
      "metadata": {
        "id": "6ZLHkLCLzX3D"
      },
      "execution_count": 27,
      "outputs": []
    },
    {
      "cell_type": "code",
      "source": [
        "for model_name in model_names:\n",
        "  for precision_name, precision in zip(data_precisions.keys(), data_precisions.values()):\n",
        "    for batch_size in batch_sizes:\n",
        "      for num_inference_step in num_inference_steps:\n",
        "\n",
        "        output_dir = f\"{model_name}_{precision_name}_{batch_size}_{num_inference_step}\"\n",
        "        output_path = os.path.join(dir_path, output_dir)\n",
        "        if not os.path.exists(output_path):\n",
        "          os.mkdir(output_path)\n",
        "        # else:\n",
        "        #   continue\n",
        "        print(output_dir)\n",
        "        \n",
        "        model = timm.create_model(model_name, pretrained=True)\n",
        "        model.to(device)\n",
        "        \n",
        "        if precision == torch.float16:\n",
        "          model = model.half()\n",
        "        elif precision == torch.bfloat16:\n",
        "          model = model.to(dtype = torch.bfloat16)\n",
        "        elif precision == torch.float32:\n",
        "          model = model\n",
        "        elif precision == torch.float64:\n",
        "          model = model.double()\n",
        "\n",
        "        total_inference_time = 0\n",
        "        total_dev_to_host_time = 0\n",
        "        total_host_to_dev_time = 0\n",
        "        total_time = 0\n",
        "\n",
        "        for step in range(num_inference_step):\n",
        "            # generate random input tensor\n",
        "            # inputs_shape = MODEL_INPUT_SHAPES[model_name]\n",
        "            \n",
        "            # inputs = torch.randn(batch_size, inputs_shape[2], inputs_shape[1], inputs_shape[0]).to(self.device)\n",
        "            inputs = torch.randn(batch_size, 3, 224, 224, dtype = precision)\n",
        "            \n",
        "            # move the input tensor to the device\n",
        "            try:\n",
        "                start_time_devt = time.time()\n",
        "                inputs = torch.Tensor.to(inputs, device)\n",
        "                end_time_devt = time.time()\n",
        "\n",
        "            except (AttributeError, RuntimeError, TypeError):\n",
        "                print(f\"There was a problem with the input tensor or device while passing input tensor to the device: {device}.\")\n",
        "\n",
        "            # run the model on the input tensor to get the output\n",
        "            try:\n",
        "                # record the start time of the inference\n",
        "                start_time_inf = time.time()\n",
        "\n",
        "                output = model(inputs)\n",
        "                \n",
        "                # record the end time of the inference\n",
        "                end_time_inf = time.time()\n",
        "\n",
        "                output = torch.Tensor.to(output, \"cpu\")\n",
        "\n",
        "                end_time = time.time()\n",
        "\n",
        "            except (ValueError, IndexError):\n",
        "                print(\"There was a problem with the input data while passing it to the model to compute the output.\")\n",
        "\n",
        "            # calculate the inference time in seconds\n",
        "            dev_to_host_time = end_time_devt - start_time_devt\n",
        "            inference_time = end_time_inf - start_time_inf\n",
        "            host_to_dev_time = end_time - end_time_inf\n",
        "            \n",
        "            total_inference_time += inference_time\n",
        "            total_dev_to_host_time += dev_to_host_time\n",
        "            total_host_to_dev_time += host_to_dev_time\n",
        "            total_time += inference_time + dev_to_host_time + host_to_dev_time\n",
        "\n",
        "        # calculate average inference time over all steps\n",
        "        avg_inference_time = total_inference_time / num_inference_step\n",
        "        avg_dev_to_host_time = total_dev_to_host_time / num_inference_step\n",
        "        avg_host_to_dev_time = total_host_to_dev_time / num_inference_step\n",
        "        avg_time = total_time / num_inference_step\n",
        "\n",
        "        # Print the results\n",
        "        fpath = os.path.join(output_path, 'mylog.txt')\n",
        "        f = open(fpath, 'w')\n",
        "        f.write(f\"Model: {model_name}\\n\")\n",
        "        f.write(f\"Batch size: {batch_size}\\n\")\n",
        "        f.write(f\"Precision type: {precision_name}\\n\")\n",
        "        f.write(f\"Inference time: {avg_inference_time}\\n\")\n",
        "        f.write(f\"Host-to-device communication time: {avg_host_to_dev_time}\\n\")\n",
        "        f.write(f\"Device-to-host communication time: {avg_dev_to_host_time}\\n\")\n",
        "        f.write(f\"Total time: {avg_time}\\n\")\n",
        "        f.close()\n",
        "        break\n",
        "      break\n",
        "    break\n",
        "  break"
      ],
      "metadata": {
        "colab": {
          "base_uri": "https://localhost:8080/"
        },
        "id": "UUCbGTLtvXhY",
        "outputId": "f8af2c4d-b67a-4d8c-98f3-2ae098d855fa"
      },
      "execution_count": 35,
      "outputs": [
        {
          "output_type": "stream",
          "name": "stdout",
          "text": [
            "efficientnet_b0_float16_16_10\n"
          ]
        }
      ]
    },
    {
      "cell_type": "code",
      "source": [],
      "metadata": {
        "id": "06xmtS4GS28D"
      },
      "execution_count": null,
      "outputs": []
    }
  ]
}